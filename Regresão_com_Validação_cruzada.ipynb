{
 "cells": [
  {
   "cell_type": "markdown",
   "metadata": {
    "id": "Ua64yDtEVkAe"
   },
   "source": [
    "# **MÓDULO 35 - Cross Validation**"
   ]
  },
  {
   "cell_type": "markdown",
   "metadata": {
    "id": "UfSU7_b9V9zs"
   },
   "source": [
    "Nesta tarefa, você trabalhará com uma base de dados que contém informações sobre variáveis ambientais coletadas para a detecção de incêndios. O objetivo é utilizar técnicas de validação cruzada (cross-validation) para avaliar a performance de um modelo de classificação na previsão da ocorrência de um incêndio com base nas variáveis fornecidas.\n",
    "\n",
    "\n",
    "Descrição da Base de Dados\n",
    "A base de dados contém as seguintes variáveis:\n",
    "\n",
    "Unnamed:0: Índice (não é uma variável útil para o modelo)\n",
    "\n",
    "UTC: Tempo em Segundos UTC\n",
    "\n",
    "Temperature[C]: Temperatura do Ar (em graus Celsius)\n",
    "\n",
    "Humidity[%]: Umidade do Ar (em porcentagem)\n",
    "\n",
    "TVOC[ppb]: Total de Compostos Orgânicos Voláteis (medido em partes por bilhão)\n",
    "\n",
    "eCO2[ppm]: Concentração equivalente de CO2 (medido em partes por milhão)\n",
    "\n",
    "Raw H2: Hidrogênio molecular bruto, não compensado\n",
    "\n",
    "Raw Ethanol: Etanol gasoso bruto\n",
    "\n",
    "Pressure[hPA]: Pressão do Ar (em hectopascais)\n",
    "\n",
    "PM1.0: Material particulado de tamanho < 1,0 µm\n",
    "\n",
    "PM2.5: Material particulado de tamanho >1,0 µm e < 2,5 µm\n",
    "\n",
    "NC0.5: Concentração numérica de material particulado de tamanho < 0,5 µm\n",
    "\n",
    "NC1.0: Concentração numérica de material particulado de tamanho 0,5 µm < 1,0 µm\n",
    "\n",
    "NC2.5: Concentração numérica de material particulado de tamanho 1,0 µm < 2,5 µm\n",
    "\n",
    "CNT: Contador de amostras\n",
    "\n",
    "\n",
    "E a variável alvo:\n",
    "\n",
    "Fire Alarm: Indicador binário de incêndio (1 se houver incêndio, 0 caso contrário)"
   ]
  },
  {
   "cell_type": "markdown",
   "metadata": {
    "id": "beLG8E0gWJ3B"
   },
   "source": [
    "O objetivo desta tarefa é aplicar a técnica de validação cruzada (cross-validation) para avaliar a performance de um modelo de classificação. A validação cruzada ajudará a garantir que o modelo seja avaliado de maneira robusta e generalize bem para dados não vistos."
   ]
  },
  {
   "cell_type": "markdown",
   "metadata": {},
   "source": [
    "### Passos para o projeto:\n",
    "- Utilizar o StandardScaler para escalonar a variável target e comparar os resultados da validação cruzada com e sem esse tratamento.\n",
    "\n",
    "- Utilizar outras métricas de avaliação, como F1-score, recall e precisão.\n",
    "\n",
    "- Realizar um tratamento de dados mais completo.\n",
    "\n",
    "- Fazer uma análise exploratória mais aprofundada e extrair insights relevantes."
   ]
  },
  {
   "cell_type": "code",
   "execution_count": 223,
   "metadata": {
    "id": "F2Re2qbeWg_S"
   },
   "outputs": [],
   "source": [
    "# Importando as bibliotecas necessarias \n",
    "import pandas as pd\n",
    "import matplotlib.pyplot as plt \n",
    "import seaborn as sns\n",
    "from sklearn.model_selection import cross_val_score\n",
    "from sklearn.linear_model import LogisticRegression\n",
    "from sklearn.model_selection import train_test_split\n",
    "from sklearn.metrics import classification_report\n",
    "from sklearn.model_selection import KFold\n",
    "from sklearn.metrics import accuracy_score\n",
    "from sklearn.pipeline import Pipeline\n",
    "from sklearn.preprocessing import StandardScaler\n",
    "from sklearn.model_selection import cross_validate"
   ]
  },
  {
   "cell_type": "markdown",
   "metadata": {
    "id": "PavdJLwnWV0w"
   },
   "source": [
    "# 1 - Carregue a base de dados, verifique os tipos de dados e também se há presença de dados faltantes ou nulos."
   ]
  },
  {
   "cell_type": "markdown",
   "metadata": {
    "id": "sFCle1hkXXZJ"
   },
   "source": [
    "Para a coluna Fire Alarm, por conta do espaçamento talvez seja util renomear o nome da coluna utilizando:\n",
    "\n",
    "df.rename(columns={'Fire Alarm': 'Fire_Alarm'}, inplace=True)"
   ]
  },
  {
   "cell_type": "code",
   "execution_count": 136,
   "metadata": {
    "id": "I3zRYpX8YVic"
   },
   "outputs": [],
   "source": [
    "# Carregando a base de dados e garantindo que ele seja carregada sem erros \n",
    "df = pd.read_csv('smoke_detection_iot.csv', sep=',', encoding='utf-8')"
   ]
  },
  {
   "cell_type": "code",
   "execution_count": 137,
   "metadata": {},
   "outputs": [
    {
     "data": {
      "text/html": [
       "<div>\n",
       "<style scoped>\n",
       "    .dataframe tbody tr th:only-of-type {\n",
       "        vertical-align: middle;\n",
       "    }\n",
       "\n",
       "    .dataframe tbody tr th {\n",
       "        vertical-align: top;\n",
       "    }\n",
       "\n",
       "    .dataframe thead th {\n",
       "        text-align: right;\n",
       "    }\n",
       "</style>\n",
       "<table border=\"1\" class=\"dataframe\">\n",
       "  <thead>\n",
       "    <tr style=\"text-align: right;\">\n",
       "      <th></th>\n",
       "      <th>Unnamed: 0</th>\n",
       "      <th>UTC</th>\n",
       "      <th>Temperature[C]</th>\n",
       "      <th>Humidity[%]</th>\n",
       "      <th>TVOC[ppb]</th>\n",
       "      <th>eCO2[ppm]</th>\n",
       "      <th>Raw H2</th>\n",
       "      <th>Raw Ethanol</th>\n",
       "      <th>Pressure[hPa]</th>\n",
       "      <th>PM1.0</th>\n",
       "      <th>PM2.5</th>\n",
       "      <th>NC0.5</th>\n",
       "      <th>NC1.0</th>\n",
       "      <th>NC2.5</th>\n",
       "      <th>CNT</th>\n",
       "      <th>Fire Alarm</th>\n",
       "    </tr>\n",
       "  </thead>\n",
       "  <tbody>\n",
       "    <tr>\n",
       "      <th>0</th>\n",
       "      <td>0</td>\n",
       "      <td>1654733331</td>\n",
       "      <td>20.000</td>\n",
       "      <td>57.36</td>\n",
       "      <td>0</td>\n",
       "      <td>400</td>\n",
       "      <td>12306</td>\n",
       "      <td>18520</td>\n",
       "      <td>939.735</td>\n",
       "      <td>0.0</td>\n",
       "      <td>0.0</td>\n",
       "      <td>0.0</td>\n",
       "      <td>0.0</td>\n",
       "      <td>0.0</td>\n",
       "      <td>0</td>\n",
       "      <td>0</td>\n",
       "    </tr>\n",
       "    <tr>\n",
       "      <th>1</th>\n",
       "      <td>1</td>\n",
       "      <td>1654733332</td>\n",
       "      <td>20.015</td>\n",
       "      <td>56.67</td>\n",
       "      <td>0</td>\n",
       "      <td>400</td>\n",
       "      <td>12345</td>\n",
       "      <td>18651</td>\n",
       "      <td>939.744</td>\n",
       "      <td>0.0</td>\n",
       "      <td>0.0</td>\n",
       "      <td>0.0</td>\n",
       "      <td>0.0</td>\n",
       "      <td>0.0</td>\n",
       "      <td>1</td>\n",
       "      <td>0</td>\n",
       "    </tr>\n",
       "    <tr>\n",
       "      <th>2</th>\n",
       "      <td>2</td>\n",
       "      <td>1654733333</td>\n",
       "      <td>20.029</td>\n",
       "      <td>55.96</td>\n",
       "      <td>0</td>\n",
       "      <td>400</td>\n",
       "      <td>12374</td>\n",
       "      <td>18764</td>\n",
       "      <td>939.738</td>\n",
       "      <td>0.0</td>\n",
       "      <td>0.0</td>\n",
       "      <td>0.0</td>\n",
       "      <td>0.0</td>\n",
       "      <td>0.0</td>\n",
       "      <td>2</td>\n",
       "      <td>0</td>\n",
       "    </tr>\n",
       "    <tr>\n",
       "      <th>3</th>\n",
       "      <td>3</td>\n",
       "      <td>1654733334</td>\n",
       "      <td>20.044</td>\n",
       "      <td>55.28</td>\n",
       "      <td>0</td>\n",
       "      <td>400</td>\n",
       "      <td>12390</td>\n",
       "      <td>18849</td>\n",
       "      <td>939.736</td>\n",
       "      <td>0.0</td>\n",
       "      <td>0.0</td>\n",
       "      <td>0.0</td>\n",
       "      <td>0.0</td>\n",
       "      <td>0.0</td>\n",
       "      <td>3</td>\n",
       "      <td>0</td>\n",
       "    </tr>\n",
       "    <tr>\n",
       "      <th>4</th>\n",
       "      <td>4</td>\n",
       "      <td>1654733335</td>\n",
       "      <td>20.059</td>\n",
       "      <td>54.69</td>\n",
       "      <td>0</td>\n",
       "      <td>400</td>\n",
       "      <td>12403</td>\n",
       "      <td>18921</td>\n",
       "      <td>939.744</td>\n",
       "      <td>0.0</td>\n",
       "      <td>0.0</td>\n",
       "      <td>0.0</td>\n",
       "      <td>0.0</td>\n",
       "      <td>0.0</td>\n",
       "      <td>4</td>\n",
       "      <td>0</td>\n",
       "    </tr>\n",
       "  </tbody>\n",
       "</table>\n",
       "</div>"
      ],
      "text/plain": [
       "   Unnamed: 0         UTC  Temperature[C]  Humidity[%]  TVOC[ppb]  eCO2[ppm]  \\\n",
       "0           0  1654733331          20.000        57.36          0        400   \n",
       "1           1  1654733332          20.015        56.67          0        400   \n",
       "2           2  1654733333          20.029        55.96          0        400   \n",
       "3           3  1654733334          20.044        55.28          0        400   \n",
       "4           4  1654733335          20.059        54.69          0        400   \n",
       "\n",
       "   Raw H2  Raw Ethanol  Pressure[hPa]  PM1.0  PM2.5  NC0.5  NC1.0  NC2.5  CNT  \\\n",
       "0   12306        18520        939.735    0.0    0.0    0.0    0.0    0.0    0   \n",
       "1   12345        18651        939.744    0.0    0.0    0.0    0.0    0.0    1   \n",
       "2   12374        18764        939.738    0.0    0.0    0.0    0.0    0.0    2   \n",
       "3   12390        18849        939.736    0.0    0.0    0.0    0.0    0.0    3   \n",
       "4   12403        18921        939.744    0.0    0.0    0.0    0.0    0.0    4   \n",
       "\n",
       "   Fire Alarm  \n",
       "0           0  \n",
       "1           0  \n",
       "2           0  \n",
       "3           0  \n",
       "4           0  "
      ]
     },
     "execution_count": 137,
     "metadata": {},
     "output_type": "execute_result"
    }
   ],
   "source": [
    "# Verificando os primeiros registros\n",
    "df.head()"
   ]
  },
  {
   "cell_type": "code",
   "execution_count": 138,
   "metadata": {},
   "outputs": [
    {
     "name": "stdout",
     "output_type": "stream",
     "text": [
      "<class 'pandas.core.frame.DataFrame'>\n",
      "RangeIndex: 62630 entries, 0 to 62629\n",
      "Data columns (total 16 columns):\n",
      " #   Column          Non-Null Count  Dtype  \n",
      "---  ------          --------------  -----  \n",
      " 0   Unnamed: 0      62630 non-null  int64  \n",
      " 1   UTC             62630 non-null  int64  \n",
      " 2   Temperature[C]  62630 non-null  float64\n",
      " 3   Humidity[%]     62630 non-null  float64\n",
      " 4   TVOC[ppb]       62630 non-null  int64  \n",
      " 5   eCO2[ppm]       62630 non-null  int64  \n",
      " 6   Raw H2          62630 non-null  int64  \n",
      " 7   Raw Ethanol     62630 non-null  int64  \n",
      " 8   Pressure[hPa]   62630 non-null  float64\n",
      " 9   PM1.0           62630 non-null  float64\n",
      " 10  PM2.5           62630 non-null  float64\n",
      " 11  NC0.5           62630 non-null  float64\n",
      " 12  NC1.0           62630 non-null  float64\n",
      " 13  NC2.5           62630 non-null  float64\n",
      " 14  CNT             62630 non-null  int64  \n",
      " 15  Fire Alarm      62630 non-null  int64  \n",
      "dtypes: float64(8), int64(8)\n",
      "memory usage: 7.6 MB\n"
     ]
    }
   ],
   "source": [
    "# Verificar as informação dos dados \n",
    "df.info()"
   ]
  },
  {
   "cell_type": "markdown",
   "metadata": {},
   "source": [
    "Análisando os tipos das variavéis podemos notar que a nossa base necessita de uma conversão de números interiros para o formato data, isso  faciliar a manipulação dos dados extraindo por exemplo, datas especifica mês, ano, dia etc."
   ]
  },
  {
   "cell_type": "code",
   "execution_count": 140,
   "metadata": {},
   "outputs": [
    {
     "name": "stdout",
     "output_type": "stream",
     "text": [
      "Tipo de dados da coluna 'data': datetime64[ns]\n"
     ]
    }
   ],
   "source": [
    "# Convertendo a coluna de segundos UTC para datetime \n",
    "df['data'] = pd.to_datetime(df['UTC'], unit='s')\n",
    "\n",
    "print(f\"Tipo de dados da coluna 'data': {df['data'].dtype}\")"
   ]
  },
  {
   "cell_type": "code",
   "execution_count": 141,
   "metadata": {},
   "outputs": [],
   "source": [
    "# Renomenado o nome da minha coluna target \n",
    "df.rename(columns={'Fire Alarm': 'fire_alarm'}, inplace=True)"
   ]
  },
  {
   "cell_type": "markdown",
   "metadata": {},
   "source": [
    "Conforme sugerido pela professora, realizei o tratamento do nome da minha variável target. Além disso, essa é uma boa prática que ajuda a evitar erros durante a codificação."
   ]
  },
  {
   "cell_type": "code",
   "execution_count": 143,
   "metadata": {},
   "outputs": [
    {
     "data": {
      "text/plain": [
       "Unnamed: 0        0\n",
       "UTC               0\n",
       "Temperature[C]    0\n",
       "Humidity[%]       0\n",
       "TVOC[ppb]         0\n",
       "eCO2[ppm]         0\n",
       "Raw H2            0\n",
       "Raw Ethanol       0\n",
       "Pressure[hPa]     0\n",
       "PM1.0             0\n",
       "PM2.5             0\n",
       "NC0.5             0\n",
       "NC1.0             0\n",
       "NC2.5             0\n",
       "CNT               0\n",
       "fire_alarm        0\n",
       "data              0\n",
       "dtype: int64"
      ]
     },
     "execution_count": 143,
     "metadata": {},
     "output_type": "execute_result"
    }
   ],
   "source": [
    "# Verificando a presença de valores nulos \n",
    "df.isnull().sum()"
   ]
  },
  {
   "cell_type": "markdown",
   "metadata": {},
   "source": [
    "Após rodar o código para verificar a presença de valores nulos, podemos notar que o nosso DataFrame não contém dados nulos, o que facilita bastante a nossa análise."
   ]
  },
  {
   "cell_type": "code",
   "execution_count": 145,
   "metadata": {},
   "outputs": [
    {
     "data": {
      "text/html": [
       "<div>\n",
       "<style scoped>\n",
       "    .dataframe tbody tr th:only-of-type {\n",
       "        vertical-align: middle;\n",
       "    }\n",
       "\n",
       "    .dataframe tbody tr th {\n",
       "        vertical-align: top;\n",
       "    }\n",
       "\n",
       "    .dataframe thead th {\n",
       "        text-align: right;\n",
       "    }\n",
       "</style>\n",
       "<table border=\"1\" class=\"dataframe\">\n",
       "  <thead>\n",
       "    <tr style=\"text-align: right;\">\n",
       "      <th></th>\n",
       "      <th>Unnamed: 0</th>\n",
       "      <th>UTC</th>\n",
       "      <th>Temperature[C]</th>\n",
       "      <th>Humidity[%]</th>\n",
       "      <th>TVOC[ppb]</th>\n",
       "      <th>eCO2[ppm]</th>\n",
       "      <th>Raw H2</th>\n",
       "      <th>Raw Ethanol</th>\n",
       "      <th>Pressure[hPa]</th>\n",
       "      <th>PM1.0</th>\n",
       "      <th>PM2.5</th>\n",
       "      <th>NC0.5</th>\n",
       "      <th>NC1.0</th>\n",
       "      <th>NC2.5</th>\n",
       "      <th>CNT</th>\n",
       "      <th>fire_alarm</th>\n",
       "      <th>data</th>\n",
       "    </tr>\n",
       "  </thead>\n",
       "  <tbody>\n",
       "    <tr>\n",
       "      <th>count</th>\n",
       "      <td>62630.000000</td>\n",
       "      <td>6.263000e+04</td>\n",
       "      <td>62630.000000</td>\n",
       "      <td>62630.000000</td>\n",
       "      <td>62630.000000</td>\n",
       "      <td>62630.000000</td>\n",
       "      <td>62630.000000</td>\n",
       "      <td>62630.000000</td>\n",
       "      <td>62630.000000</td>\n",
       "      <td>62630.000000</td>\n",
       "      <td>62630.000000</td>\n",
       "      <td>62630.000000</td>\n",
       "      <td>62630.000000</td>\n",
       "      <td>62630.000000</td>\n",
       "      <td>62630.000000</td>\n",
       "      <td>62630.000000</td>\n",
       "      <td>62630</td>\n",
       "    </tr>\n",
       "    <tr>\n",
       "      <th>mean</th>\n",
       "      <td>31314.500000</td>\n",
       "      <td>1.654792e+09</td>\n",
       "      <td>15.970424</td>\n",
       "      <td>48.539499</td>\n",
       "      <td>1942.057528</td>\n",
       "      <td>670.021044</td>\n",
       "      <td>12942.453936</td>\n",
       "      <td>19754.257912</td>\n",
       "      <td>938.627649</td>\n",
       "      <td>100.594309</td>\n",
       "      <td>184.467770</td>\n",
       "      <td>491.463608</td>\n",
       "      <td>203.586487</td>\n",
       "      <td>80.049042</td>\n",
       "      <td>10511.386157</td>\n",
       "      <td>0.714626</td>\n",
       "      <td>2022-06-09 16:27:46.184272384</td>\n",
       "    </tr>\n",
       "    <tr>\n",
       "      <th>min</th>\n",
       "      <td>0.000000</td>\n",
       "      <td>1.654712e+09</td>\n",
       "      <td>-22.010000</td>\n",
       "      <td>10.740000</td>\n",
       "      <td>0.000000</td>\n",
       "      <td>400.000000</td>\n",
       "      <td>10668.000000</td>\n",
       "      <td>15317.000000</td>\n",
       "      <td>930.852000</td>\n",
       "      <td>0.000000</td>\n",
       "      <td>0.000000</td>\n",
       "      <td>0.000000</td>\n",
       "      <td>0.000000</td>\n",
       "      <td>0.000000</td>\n",
       "      <td>0.000000</td>\n",
       "      <td>0.000000</td>\n",
       "      <td>2022-06-08 18:16:27</td>\n",
       "    </tr>\n",
       "    <tr>\n",
       "      <th>25%</th>\n",
       "      <td>15657.250000</td>\n",
       "      <td>1.654743e+09</td>\n",
       "      <td>10.994250</td>\n",
       "      <td>47.530000</td>\n",
       "      <td>130.000000</td>\n",
       "      <td>400.000000</td>\n",
       "      <td>12830.000000</td>\n",
       "      <td>19435.000000</td>\n",
       "      <td>938.700000</td>\n",
       "      <td>1.280000</td>\n",
       "      <td>1.340000</td>\n",
       "      <td>8.820000</td>\n",
       "      <td>1.384000</td>\n",
       "      <td>0.033000</td>\n",
       "      <td>3625.250000</td>\n",
       "      <td>0.000000</td>\n",
       "      <td>2022-06-09 02:54:04.249999872</td>\n",
       "    </tr>\n",
       "    <tr>\n",
       "      <th>50%</th>\n",
       "      <td>31314.500000</td>\n",
       "      <td>1.654762e+09</td>\n",
       "      <td>20.130000</td>\n",
       "      <td>50.150000</td>\n",
       "      <td>981.000000</td>\n",
       "      <td>400.000000</td>\n",
       "      <td>12924.000000</td>\n",
       "      <td>19501.000000</td>\n",
       "      <td>938.816000</td>\n",
       "      <td>1.810000</td>\n",
       "      <td>1.880000</td>\n",
       "      <td>12.450000</td>\n",
       "      <td>1.943000</td>\n",
       "      <td>0.044000</td>\n",
       "      <td>9336.000000</td>\n",
       "      <td>1.000000</td>\n",
       "      <td>2022-06-09 08:05:19.500000</td>\n",
       "    </tr>\n",
       "    <tr>\n",
       "      <th>75%</th>\n",
       "      <td>46971.750000</td>\n",
       "      <td>1.654778e+09</td>\n",
       "      <td>25.409500</td>\n",
       "      <td>53.240000</td>\n",
       "      <td>1189.000000</td>\n",
       "      <td>438.000000</td>\n",
       "      <td>13109.000000</td>\n",
       "      <td>20078.000000</td>\n",
       "      <td>939.418000</td>\n",
       "      <td>2.090000</td>\n",
       "      <td>2.180000</td>\n",
       "      <td>14.420000</td>\n",
       "      <td>2.249000</td>\n",
       "      <td>0.051000</td>\n",
       "      <td>17164.750000</td>\n",
       "      <td>1.000000</td>\n",
       "      <td>2022-06-09 12:26:16.750000128</td>\n",
       "    </tr>\n",
       "    <tr>\n",
       "      <th>max</th>\n",
       "      <td>62629.000000</td>\n",
       "      <td>1.655130e+09</td>\n",
       "      <td>59.930000</td>\n",
       "      <td>75.200000</td>\n",
       "      <td>60000.000000</td>\n",
       "      <td>60000.000000</td>\n",
       "      <td>13803.000000</td>\n",
       "      <td>21410.000000</td>\n",
       "      <td>939.861000</td>\n",
       "      <td>14333.690000</td>\n",
       "      <td>45432.260000</td>\n",
       "      <td>61482.030000</td>\n",
       "      <td>51914.680000</td>\n",
       "      <td>30026.438000</td>\n",
       "      <td>24993.000000</td>\n",
       "      <td>1.000000</td>\n",
       "      <td>2022-06-13 14:20:51</td>\n",
       "    </tr>\n",
       "    <tr>\n",
       "      <th>std</th>\n",
       "      <td>18079.868017</td>\n",
       "      <td>1.100025e+05</td>\n",
       "      <td>14.359576</td>\n",
       "      <td>8.865367</td>\n",
       "      <td>7811.589055</td>\n",
       "      <td>1905.885439</td>\n",
       "      <td>272.464305</td>\n",
       "      <td>609.513156</td>\n",
       "      <td>1.331344</td>\n",
       "      <td>922.524245</td>\n",
       "      <td>1976.305615</td>\n",
       "      <td>4265.661251</td>\n",
       "      <td>2214.738556</td>\n",
       "      <td>1083.383189</td>\n",
       "      <td>7597.870997</td>\n",
       "      <td>0.451596</td>\n",
       "      <td>NaN</td>\n",
       "    </tr>\n",
       "  </tbody>\n",
       "</table>\n",
       "</div>"
      ],
      "text/plain": [
       "         Unnamed: 0           UTC  Temperature[C]   Humidity[%]     TVOC[ppb]  \\\n",
       "count  62630.000000  6.263000e+04    62630.000000  62630.000000  62630.000000   \n",
       "mean   31314.500000  1.654792e+09       15.970424     48.539499   1942.057528   \n",
       "min        0.000000  1.654712e+09      -22.010000     10.740000      0.000000   \n",
       "25%    15657.250000  1.654743e+09       10.994250     47.530000    130.000000   \n",
       "50%    31314.500000  1.654762e+09       20.130000     50.150000    981.000000   \n",
       "75%    46971.750000  1.654778e+09       25.409500     53.240000   1189.000000   \n",
       "max    62629.000000  1.655130e+09       59.930000     75.200000  60000.000000   \n",
       "std    18079.868017  1.100025e+05       14.359576      8.865367   7811.589055   \n",
       "\n",
       "          eCO2[ppm]        Raw H2   Raw Ethanol  Pressure[hPa]         PM1.0  \\\n",
       "count  62630.000000  62630.000000  62630.000000   62630.000000  62630.000000   \n",
       "mean     670.021044  12942.453936  19754.257912     938.627649    100.594309   \n",
       "min      400.000000  10668.000000  15317.000000     930.852000      0.000000   \n",
       "25%      400.000000  12830.000000  19435.000000     938.700000      1.280000   \n",
       "50%      400.000000  12924.000000  19501.000000     938.816000      1.810000   \n",
       "75%      438.000000  13109.000000  20078.000000     939.418000      2.090000   \n",
       "max    60000.000000  13803.000000  21410.000000     939.861000  14333.690000   \n",
       "std     1905.885439    272.464305    609.513156       1.331344    922.524245   \n",
       "\n",
       "              PM2.5         NC0.5         NC1.0         NC2.5           CNT  \\\n",
       "count  62630.000000  62630.000000  62630.000000  62630.000000  62630.000000   \n",
       "mean     184.467770    491.463608    203.586487     80.049042  10511.386157   \n",
       "min        0.000000      0.000000      0.000000      0.000000      0.000000   \n",
       "25%        1.340000      8.820000      1.384000      0.033000   3625.250000   \n",
       "50%        1.880000     12.450000      1.943000      0.044000   9336.000000   \n",
       "75%        2.180000     14.420000      2.249000      0.051000  17164.750000   \n",
       "max    45432.260000  61482.030000  51914.680000  30026.438000  24993.000000   \n",
       "std     1976.305615   4265.661251   2214.738556   1083.383189   7597.870997   \n",
       "\n",
       "         fire_alarm                           data  \n",
       "count  62630.000000                          62630  \n",
       "mean       0.714626  2022-06-09 16:27:46.184272384  \n",
       "min        0.000000            2022-06-08 18:16:27  \n",
       "25%        0.000000  2022-06-09 02:54:04.249999872  \n",
       "50%        1.000000     2022-06-09 08:05:19.500000  \n",
       "75%        1.000000  2022-06-09 12:26:16.750000128  \n",
       "max        1.000000            2022-06-13 14:20:51  \n",
       "std        0.451596                            NaN  "
      ]
     },
     "execution_count": 145,
     "metadata": {},
     "output_type": "execute_result"
    }
   ],
   "source": [
    "# Visualizar a decrição dos meus dados \n",
    "df.describe()"
   ]
  },
  {
   "cell_type": "code",
   "execution_count": 146,
   "metadata": {},
   "outputs": [
    {
     "data": {
      "image/png": "[encoded data removed]",
      "text/plain": [
       "<Figure size 1500x1000 with 16 Axes>"
      ]
     },
     "metadata": {},
     "output_type": "display_data"
    }
   ],
   "source": [
    "# Selecionando as colunas númericas do meu dataframe \n",
    "numeric_cols = df.select_dtypes(include=['float64', 'int64']).columns.tolist()\n",
    "numeric_cols.remove('fire_alarm') # Remonedo a variável alvo para visualizar as features\n",
    "\n",
    "# Criando histogramas para cada variável numérica\n",
    "df[numeric_cols].hist(figsize=(15, 10))\n",
    "plt.tight_layout()\n",
    "plt.show()"
   ]
  },
  {
   "cell_type": "markdown",
   "metadata": {},
   "source": [
    "### Para um entendimento mínimo dos dados, eu plotei um gráfico para cada variável a fim de visualizar sua distribuição\n",
    "\n",
    "- Unnamed e UTC: Como esperado, essas colunas parecem ter distribuições uniformes ou com picos no início, o que reforça a ideia de que Unnamed representa um índice e UTC corresponde a uma sequência temporal.\n",
    "\n",
    "- Temperature e Humidity: A temperatura parece ter uma distribuição multimodal, com picos em diferentes faixas, o que pode indicar variações nas condições ambientais durante a coleta dos dados. A umidade apresenta uma distribuição mais concentrada em torno de certos valores, com assimetria à esquerda.\n",
    "\n",
    "- TVOC, CO₂, Raw Ethanol, PM1.0, PM2.5, NC0, NC2.5: Essas variáveis mostram forte assimetria à direita, com a maioria dos valores concentrada perto de zero ou em faixas baixas, e alguns valores muito altos (potenciais outliers). Isso é comum em dados de sensores ambientais, nos quais eventos de alta concentração de poluentes ou gases são raros, mas significativos.\n",
    "\n",
    "- Pressure: A pressão apresenta uma distribuição com alguns picos, possivelmente indicando diferentes condições atmosféricas. A faixa de valores parece relativamente estreita.\n",
    "\n",
    "- CNT: O contador de amostras mostra uma distribuição com frequência maior nos valores mais baixos, diminuindo à medida que o número de amostras aumenta."
   ]
  },
  {
   "cell_type": "markdown",
   "metadata": {
    "id": "hOD9k9LAW8Kk"
   },
   "source": [
    "# 2 - Para essa base, onde você realizará as previsões de fire alarm, qual modelo de machine learning você aplicará? Justifique.\n",
    "\n",
    "\n"
   ]
  },
  {
   "cell_type": "markdown",
   "metadata": {},
   "source": [
    "Para esse projeto utilizarei o modelo de Regreção logística pois é um modelo simples e facil de implementar ele tambem é um modelo facíl de se interpretar porque os coeficientes indicam a influência de cada variável, o que facilita a interpretação dos resultados.\n",
    "Alem disso ele funciona bem qunado há uma relação linear entre as variaveis preditores e a target."
   ]
  },
  {
   "cell_type": "markdown",
   "metadata": {
    "id": "ME4lOgO5Wx1a"
   },
   "source": [
    "# 3 - Separe a base em Y e X e já rode a instância do modelo que você utilizará."
   ]
  },
  {
   "cell_type": "code",
   "execution_count": 151,
   "metadata": {
    "id": "FaI7oQazXOMU"
   },
   "outputs": [],
   "source": [
    "# Separando a base em treio de teste \n",
    "y = df['fire_alarm']\n",
    "X = df.drop(columns=['fire_alarm', 'Unnamed: 0', 'UTC', 'data'])\n",
    "\n",
    "# Instanciando o modelo de Regressão Logística \n",
    "model_rl = LogisticRegression(solver='libinear', random_state=42, max_iter=1000)"
   ]
  },
  {
   "cell_type": "markdown",
   "metadata": {
    "id": "hTSxwAL-XxC_"
   },
   "source": [
    "# 4 - Defina o número de Folds e rode o modelo com a validação cruzada."
   ]
  },
  {
   "cell_type": "code",
   "execution_count": 161,
   "metadata": {
    "id": "OyPPGETSX4Ug"
   },
   "outputs": [
    {
     "name": "stdout",
     "output_type": "stream",
     "text": [
      "Pontuações de acurácia na validação cruzada (SEM escalonamento): [0.98722657 0.98786524 0.98986109 0.98938209 0.98850391]\n",
      "\n",
      "Média da acurácia na validação cruzada (SEM escalonamento): 0.9886\n",
      "Desvio padrão da acurácia na validação cruzada (SEM escalonamento): 0.0010\n"
     ]
    }
   ],
   "source": [
    "# Definindo o número de folds\n",
    "n_splits = 5\n",
    "kf = KFold(n_splits=n_splits, shuffle=True, random_state=42)\n",
    "\n",
    "# Rodando a validação cruzada SEM escalonamento\n",
    "scores_sem_escalonamento = cross_val_score(modelo_rl, X, y, cv=kf, scoring='accuracy')\n",
    "\n",
    "# Exibindo as pontuações de cada fold (sem escalonamento)\n",
    "print(\"Pontuações de acurácia na validação cruzada (SEM escalonamento):\", scores_sem_escalonamento)\n",
    "\n",
    "# Calculando a média da acurácia (sem escalonamento)\n",
    "media_acuracia_sem_escalonamento = scores_sem_escalonamento.mean()\n",
    "\n",
    "# Calculando o desvio padrão da acurácia (sem escalonamento)\n",
    "desvio_padrao_acuracia_sem_escalonamento = scores_sem_escalonamento.std()\n",
    "\n",
    "print(f\"\\nMédia da acurácia na validação cruzada (SEM escalonamento): {media_acuracia_sem_escalonamento:.4f}\")\n",
    "print(f\"Desvio padrão da acurácia na validação cruzada (SEM escalonamento): {desvio_padrao_acuracia_sem_escalonamento:.4f}\")"
   ]
  },
  {
   "cell_type": "markdown",
   "metadata": {},
   "source": [
    "Aqui, meu objetivo foi comparar se a validação cruzada com os dados não escalonados apresentaria alguma diferença nos resultados. Inicialmente, avaliei o modelo utilizando métricas adicionais, como a acurácia, o desvio padrão e, por fim, destaquei a média da acurácia, que foi de 0,98 — um excelente resultado — com um desvio padrão de apenas 0,0010."
   ]
  },
  {
   "cell_type": "code",
   "execution_count": 190,
   "metadata": {},
   "outputs": [
    {
     "name": "stdout",
     "output_type": "stream",
     "text": [
      "\n",
      "Pontuações de acurácia na validação cruzada (COM escalonamento): [0.99113843 0.99161744 0.98970142 0.99026026 0.99097876]\n",
      "\n",
      "Média da acurácia na validação cruzada (COM escalonamento): 0.9907\n",
      "Desvio padrão da acurácia na validação cruzada (COM escalonamento): 0.0007\n"
     ]
    }
   ],
   "source": [
    "# Criando o objeto StandardScaler\n",
    "scaler = StandardScaler()\n",
    "\n",
    "# Criando o objeto de Regressão Logística\n",
    "modelo_rl = LogisticRegression(solver='liblinear', random_state=42, max_iter=1000)\n",
    "\n",
    "# Criando o Pipeline\n",
    "pipeline_rl = Pipeline([('scaler', scaler), ('logistic_regression', modelo_rl)])\n",
    "\n",
    "# Definindo o número de folds\n",
    "n_splits = 5\n",
    "kf = KFold(n_splits=n_splits, shuffle=True, random_state=42)\n",
    "\n",
    "# Rodando a validação cruzada COM escalonamento\n",
    "scores_com_escalonamento = cross_val_score(pipeline_rl, X, y, cv=kf, scoring='accuracy')\n",
    "\n",
    "# Exibindo as pontuações de cada fold (COM escalonamento)\n",
    "print(\"\\nPontuações de acurácia na validação cruzada (COM escalonamento):\", scores_com_escalonamento)\n",
    "\n",
    "# Calculando a média da acurácia (COM escalonamento)\n",
    "media_acuracia_com_escalonamento = scores_com_escalonamento.mean()\n",
    "\n",
    "# Calculando o desvio padrão da acurácia (COM escalonamento)\n",
    "desvio_padrao_acuracia_com_escalonamento = scores_com_escalonamento.std()\n",
    "\n",
    "print(f\"\\nMédia da acurácia na validação cruzada (COM escalonamento): {media_acuracia_com_escalonamento:.4f}\")\n",
    "print(f\"Desvio padrão da acurácia na validação cruzada (COM escalonamento): {desvio_padrao_acuracia_com_escalonamento:.4f}\")"
   ]
  },
  {
   "cell_type": "markdown",
   "metadata": {},
   "source": [
    "Como imaginei, o melhorou ainda mais com os dados escalonados, alcançando uma acurácia de 0,99 e um desvio padrão de apenas 0,0007.\n",
    "\n",
    "E como ja vimos no curso a acurácia pode ser enganosa, especialmente prevendo a classe majoritária na maioria das vezes, por isso vamos utilizar outras métricas para avaliar o nosso modelo de regressão çogística"
   ]
  },
  {
   "cell_type": "code",
   "execution_count": 214,
   "metadata": {},
   "outputs": [
    {
     "name": "stdout",
     "output_type": "stream",
     "text": [
      "\n",
      "Resultados da Validação Cruzada (Precisão, Recall, F1-score):\n",
      "Precisão por fold: [0.99339971 0.99406162 0.99253814 0.99284756 0.9937667 ]\n",
      "Recall por fold: [0.99417824 0.99417302 0.99309115 0.99351376 0.99365609]\n",
      "F1-score por fold: [0.99378882 0.99411732 0.99281457 0.99318055 0.99371139]\n",
      "\n",
      "Média da Precisão na Validação Cruzada: 0.9933\n",
      "\n",
      "Média da Recall na Validação Cruzada: 0.9937\n",
      "\n",
      "Média da F1-score na Validação Cruzada: 0.9935\n"
     ]
    }
   ],
   "source": [
    "\n",
    "# Definindo as métricas que queremos avaliar\n",
    "scoring = ['precision', 'recall', 'f1']\n",
    "\n",
    "# Rodando a validação cruzada com o Pipeline e as novas métricas\n",
    "cv_results_extended = cross_validate(pipeline_rl, X, y, cv=kf, scoring=scoring)\n",
    "\n",
    "# Exibindo os resultados para cada métrica em cada fold \n",
    "print(\"\\nResultados da Validação Cruzada (Precisão, Recall, F1-score):\")\n",
    "print(f\"Precisão por fold: {cv_results_extended['test_precision']}\")\n",
    "print(f\"Recall por fold: {cv_results_extended['test_recall']}\")\n",
    "print(f\"F1-score por fold: {cv_results_extended['test_f1']}\")\n",
    "\n",
    "# Calculando a média de cada métrica \n",
    "media_precisao_cv_extended = cv_results_extended['test_precision'].mean()\n",
    "media_recall_cv_extended = cv_results_extended['test_recall'].mean()\n",
    "media_f1_cv_extended = cv_results_extended['test_f1'].mean()\n",
    "\n",
    "print(f\"\\nMédia da Precisão na Validação Cruzada: {media_precisao_cv_extended:.4f}\")\n",
    "print(f\"\\nMédia da Recall na Validação Cruzada: {media_recall_cv_extended:.4f}\")\n",
    "print(f\"\\nMédia da F1-score na Validação Cruzada: {media_f1_cv_extended:.4f}\")"
   ]
  },
  {
   "cell_type": "markdown",
   "metadata": {
    "id": "H_xggQ5DX9mL"
   },
   "source": [
    "# 5 - Avalie a pontuação de cada modelo e ao final a validação final da média."
   ]
  },
  {
   "cell_type": "code",
   "execution_count": 216,
   "metadata": {
    "id": "Zdw7Rs0IYDt5"
   },
   "outputs": [
    {
     "name": "stdout",
     "output_type": "stream",
     "text": [
      "\n",
      "Resultados da Validação Cruzada (Precisão, Recall, F1-score):\n",
      "Precisão por fold: [0.99339971 0.99406162 0.99253814 0.99284756 0.9937667 ]\n",
      "Recall por fold: [0.99417824 0.99417302 0.99309115 0.99351376 0.99365609]\n",
      "F1-score por fold: [0.99378882 0.99411732 0.99281457 0.99318055 0.99371139]\n"
     ]
    }
   ],
   "source": [
    "# Exibindo os resultados para cada métrica em cada fold \n",
    "print(\"\\nResultados da Validação Cruzada (Precisão, Recall, F1-score):\")\n",
    "print(f\"Precisão por fold: {cv_results_extended['test_precision']}\")\n",
    "print(f\"Recall por fold: {cv_results_extended['test_recall']}\")\n",
    "print(f\"F1-score por fold: {cv_results_extended['test_f1']}\")\n"
   ]
  },
  {
   "cell_type": "code",
   "execution_count": 218,
   "metadata": {},
   "outputs": [
    {
     "name": "stdout",
     "output_type": "stream",
     "text": [
      "\n",
      "Média da Precisão na Validação Cruzada: 0.9933\n",
      "\n",
      "Média da Recall na Validação Cruzada: 0.9937\n",
      "\n",
      "Média da F1-score na Validação Cruzada: 0.9935\n"
     ]
    }
   ],
   "source": [
    "# Exibindo a média de cada métrica em cada fold\n",
    "print(f\"\\nMédia da Precisão na Validação Cruzada: {media_precisao_cv_extended:.4f}\")\n",
    "print(f\"\\nMédia da Recall na Validação Cruzada: {media_recall_cv_extended:.4f}\")\n",
    "print(f\"\\nMédia da F1-score na Validação Cruzada: {media_f1_cv_extended:.4f}\")"
   ]
  },
  {
   "cell_type": "code",
   "execution_count": null,
   "metadata": {},
   "outputs": [],
   "source": []
  }
 ],
 "metadata": {
  "colab": {
   "provenance": []
  },
  "kernelspec": {
   "display_name": "Python 3 (ipykernel)",
   "language": "python",
   "name": "python3"
  },
  "language_info": {
   "codemirror_mode": {
    "name": "ipython",
    "version": 3
   },
   "file_extension": ".py",
   "mimetype": "text/x-python",
   "name": "python",
   "nbconvert_exporter": "python",
   "pygments_lexer": "ipython3",
   "version": "3.12.4"
  }
 },
 "nbformat": 4,
 "nbformat_minor": 4
}
